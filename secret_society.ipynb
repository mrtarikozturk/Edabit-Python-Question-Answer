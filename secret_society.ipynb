{
 "cells": [
  {
   "cell_type": "markdown",
   "metadata": {},
   "source": [
    "A group of friends have decided to start a secret society. The name will be the first letter of each of their names, sorted in alphabetical order.\n",
    "\n",
    "Create a function that takes in a list of names and returns the name of the secret society.\n",
    "\n",
    "Examples\n",
    "\n",
    "society_name([\"Adam\", \"Sarah\", \"Malcolm\"]) ➞ \"AMS\"\n",
    "\n",
    "society_name([\"Harry\", \"Newt\", \"Luna\", \"Cho\"]) ➞ \"CHLN\"\n",
    "\n",
    "society_name([\"Phoebe\", \"Chandler\", \"Rachel\", \"Ross\", \"Monica\", \"Joey\"]) ➞ \"CJM\n",
    "\n",
    "https://edabit.com/challenge/m9bcZKy4niMmsg3JX"
   ]
  },
  {
   "cell_type": "code",
   "execution_count": 1,
   "metadata": {},
   "outputs": [
    {
     "name": "stdout",
     "output_type": "stream",
     "text": [
      "FGJT\n"
     ]
    }
   ],
   "source": [
    "def society_name(friends):\n",
    "    return ''.join(sorted(i[0] for i in friends))\n",
    "\n",
    "print(society_name(['Tarik', 'Faruk', 'Gabriel', 'Jhon']))"
   ]
  },
  {
   "cell_type": "code",
   "execution_count": 2,
   "metadata": {},
   "outputs": [
    {
     "name": "stdout",
     "output_type": "stream",
     "text": [
      "FGJT\n"
     ]
    }
   ],
   "source": [
    "def society_name(friends):\n",
    "    friends.sort()\n",
    "    return \"\".join(i[0] for i in friends)\n",
    "\n",
    "print(society_name(['Tarik', 'Faruk', 'Gabriel', 'Jhon']))"
   ]
  },
  {
   "cell_type": "code",
   "execution_count": 3,
   "metadata": {},
   "outputs": [
    {
     "name": "stdout",
     "output_type": "stream",
     "text": [
      "FGJT\n"
     ]
    }
   ],
   "source": [
    "def society_name(friends):\n",
    "    return ''.join([i[0] for i in sorted(friends)])\n",
    "\n",
    "print(society_name(['Tarik', 'Faruk', 'Gabriel', 'Jhon']))"
   ]
  },
  {
   "cell_type": "code",
   "execution_count": 4,
   "metadata": {},
   "outputs": [
    {
     "name": "stdout",
     "output_type": "stream",
     "text": [
      "FGJT\n"
     ]
    }
   ],
   "source": [
    "def society_name(friends):\n",
    "    \n",
    "    name = \"\"\n",
    "    friends.sort()\n",
    "    \n",
    "    for i in friends:\n",
    "        name += i[0]\n",
    "    return name\n",
    "\n",
    "print(society_name(['Tarik', 'Faruk', 'Gabriel', 'Jhon']))"
   ]
  }
 ],
 "metadata": {
  "kernelspec": {
   "display_name": "Python 3",
   "language": "python",
   "name": "python3"
  },
  "language_info": {
   "codemirror_mode": {
    "name": "ipython",
    "version": 3
   },
   "file_extension": ".py",
   "mimetype": "text/x-python",
   "name": "python",
   "nbconvert_exporter": "python",
   "pygments_lexer": "ipython3",
   "version": "3.7.6"
  }
 },
 "nbformat": 4,
 "nbformat_minor": 4
}
