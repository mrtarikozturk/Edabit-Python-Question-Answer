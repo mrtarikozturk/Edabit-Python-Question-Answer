{
 "cells": [
  {
   "cell_type": "markdown",
   "metadata": {},
   "source": [
    "Given a number n, return a sentence which describes the number in the following ways.\n",
    "\n",
    "- Always start the string with \"The most\".\n",
    "- If n is evenly divisible by 1, add \"brilliant\" to the sentence.\n",
    "- If n is evenly divisble by 2, add \"exciting\" to the sentence.\n",
    "- ... 3, add \"fantastic\" to the sentence.\n",
    "- ... 4, add \"virtuous\" to the sentence.\n",
    "- ... 5, add \"heart-warming\" ...\n",
    "- ... 6, add \"tear-jerking\" ...\n",
    "- ... 7, add \"beautiful\" ...\n",
    "- ... 8, add \"exhilarating\" ...\n",
    "- ... 9, add \"emotional\" ...\n",
    "- If n is evenly divisible by 10, add inspiring to the sentence.\n",
    "- Always end the string with \"number is\" n!\n",
    "\n",
    "Examples\n",
    "\n",
    "describe_num(13) ➞ \"The most brilliant number is 13!\"\n",
    "- 13 is evenly divisble by 1 only\n",
    "\n",
    "describe_num(4) ➞ \"The most brilliant exciting virtuous number is 4!\"\n",
    "- 4 is evenly divisible by 1, 2 and 4\n",
    "\n",
    "describe_num(21) ➞ \"The most brilliant fantastic beautiful number is 21!\"\n",
    "- 21 is evenly divisible by 1, 3 and 7\n",
    "\n",
    "describe_num(60) ➞ \"The most brilliant exciting fantastic virtuous heart-warming tear-jerking inspiring number is 60!\"\n",
    "- 60 is evenly divisible by 1, 2, 3, 4, 5, 6 and 10"
   ]
  },
  {
   "cell_type": "code",
   "execution_count": 6,
   "metadata": {},
   "outputs": [
    {
     "name": "stdout",
     "output_type": "stream",
     "text": [
      "The most brilliant exciting fantastic heart-warming tear-jerking inspiring number is 30!\n",
      "The most brilliant fantastic heart-warming number is 15!\n",
      "The most brilliant exciting fantastic tear-jerking emotional number is 54!\n",
      "The most brilliant exciting virtuous heart-warming inspiring number is 100!\n",
      "The most brilliant exciting fantastic heart-warming tear-jerking inspiring number is 150!\n",
      "The most brilliant number is 167!\n"
     ]
    }
   ],
   "source": [
    "def describe_num(n):\n",
    "    result = 'The most'\n",
    "    for i in range(1, 11):\n",
    "        if n % i == 0:\n",
    "            if i == 1: result += ' brilliant'\n",
    "            elif i == 2: result += ' exciting'\n",
    "            elif i == 3: result += ' fantastic'\n",
    "            elif i == 4: result += ' virtuous'\n",
    "            elif i == 5: result += ' heart-warming'\n",
    "            elif i == 6: result += ' tear-jerking'\n",
    "            elif i == 7: result += ' beautiful'\n",
    "            elif i == 8: result += ' exhilarating'\n",
    "            elif i == 9: result += ' emotional'\n",
    "            elif i == 10: result += ' inspiring'\t\t\t\n",
    "    return \"{} number is {}!\".format(result, n)\n",
    "            \n",
    "            \n",
    "print(describe_num(30))\n",
    "print(describe_num(15))   \n",
    "print(describe_num(54)) \n",
    "print(describe_num(100)) \n",
    "print(describe_num(150)) \n",
    "print(describe_num(167)) "
   ]
  }
 ],
 "metadata": {
  "kernelspec": {
   "display_name": "Python 3",
   "language": "python",
   "name": "python3"
  },
  "language_info": {
   "codemirror_mode": {
    "name": "ipython",
    "version": 3
   },
   "file_extension": ".py",
   "mimetype": "text/x-python",
   "name": "python",
   "nbconvert_exporter": "python",
   "pygments_lexer": "ipython3",
   "version": "3.7.6"
  }
 },
 "nbformat": 4,
 "nbformat_minor": 4
}
