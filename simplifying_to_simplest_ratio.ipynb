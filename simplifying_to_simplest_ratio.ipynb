{
 "cells": [
  {
   "cell_type": "markdown",
   "metadata": {},
   "source": [
    "Create a function which simplifies a given fraction into its simplest ratio. Return the fraction as a string.\n",
    "\n",
    "Examples\n",
    "simplify_frac(\"2/4\") ➞ \"1/2\"\n",
    "\n",
    "simplify_frac(\"15/25\") ➞ \"3/5\"\n",
    "\n",
    "simplify_frac(\"4/9\") ➞ \"4/9\"\n",
    "Notes\n",
    "Fractions are given as strings.\n",
    "Return the same fraction if it is already in its simplified ratio (see example #3)."
   ]
  },
  {
   "cell_type": "code",
   "execution_count": 17,
   "metadata": {},
   "outputs": [
    {
     "data": {
      "text/plain": [
       "'2/1'"
      ]
     },
     "execution_count": 17,
     "metadata": {},
     "output_type": "execute_result"
    }
   ],
   "source": [
    "def simplify_frac(fraction):\n",
    "    lst = fraction.split('/')\n",
    "    lst[0] = int(lst[0])\n",
    "    lst[1]= int(lst[1])\n",
    "    \n",
    "    if lst[0]>lst[1]:\n",
    "        for i in range(lst[1]+1, 1, -1):\n",
    "            if not lst[0] % i and not lst[1] % i:\n",
    "                lst[0] = lst[0] / i\n",
    "                lst[1] = lst[1] / i\n",
    "    else:\n",
    "        for i in range(lst[0]+1, 1, -1):\n",
    "            if not lst[0] % i and not lst[1] % i:\n",
    "                lst[0] = lst[0] / i\n",
    "                lst[1] = lst[1] / i\n",
    "    return '{}/{}'.format(int(lst[0]), int(lst[1]))                \n",
    "    \n",
    "simplify_frac(\"8/4\")\n",
    "    \n",
    "    "
   ]
  }
 ],
 "metadata": {
  "kernelspec": {
   "display_name": "Python 3",
   "language": "python",
   "name": "python3"
  },
  "language_info": {
   "codemirror_mode": {
    "name": "ipython",
    "version": 3
   },
   "file_extension": ".py",
   "mimetype": "text/x-python",
   "name": "python",
   "nbconvert_exporter": "python",
   "pygments_lexer": "ipython3",
   "version": "3.7.6"
  }
 },
 "nbformat": 4,
 "nbformat_minor": 4
}
