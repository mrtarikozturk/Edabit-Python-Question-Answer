{
 "cells": [
  {
   "cell_type": "markdown",
   "metadata": {},
   "source": [
    "Create a function that finds all elements in the given list, such that each element is greater than all elements to the right of it.\n",
    "\n",
    "Examples\n",
    "leader([2, 3, 20, 15, 8, 3]) ➞ [20, 15, 8, 3]\n",
    "- Note that, 20 is greater than all the elements to it's\n",
    "- right side, similarly 15 and so on.\n",
    "\n",
    "leader([2, 3, 20, 15, 8, 25, 3]) ➞ [25, 3]\n",
    "- Note that, 20 cannot be added because 25 is present,\n",
    "- which is greater than 20.\n",
    "\n",
    "leader([1, 2, 3, 4, 5]) ➞ [5]"
   ]
  },
  {
   "cell_type": "code",
   "execution_count": 9,
   "metadata": {},
   "outputs": [
    {
     "name": "stdout",
     "output_type": "stream",
     "text": [
      "[20, 15, 8, 3]\n",
      "[26, 3]\n",
      "[10]\n",
      "[500, 400, 300, 200, 100, 50, 10, 5]\n",
      "[5]\n"
     ]
    }
   ],
   "source": [
    "def leader(lst):\n",
    "    lst2 = []\n",
    "    for i in range(len(lst)-1, -1, -1):\n",
    "        if lst[i]<lst[i-1]:\n",
    "            lst2.append(lst[i])\n",
    "        else:\n",
    "            lst2.append(lst[i])\n",
    "            break\n",
    "    return sorted(lst2, reverse=True)\n",
    "\n",
    "print(leader([2, 3, 20, 15, 8, 3]))\n",
    "print(leader([2, 3, 20, 15, 26, 3]))\n",
    "print(leader([1, 2, 3, 4, 3, 10]))\n",
    "print(leader([500, 400, 300, 200, 100, 50, 10, 5]))\n",
    "print(leader([8, 7, 1, 2, 10, 3, 5]))\n",
    "        "
   ]
  },
  {
   "cell_type": "code",
   "execution_count": 3,
   "metadata": {},
   "outputs": [
    {
     "data": {
      "text/plain": [
       "[9, 8, 7, 6, 5, 4, 3, 2, 1, 0]"
      ]
     },
     "execution_count": 3,
     "metadata": {},
     "output_type": "execute_result"
    }
   ],
   "source": [
    "list(range(9, -1, -1))"
   ]
  }
 ],
 "metadata": {
  "kernelspec": {
   "display_name": "Python 3",
   "language": "python",
   "name": "python3"
  },
  "language_info": {
   "codemirror_mode": {
    "name": "ipython",
    "version": 3
   },
   "file_extension": ".py",
   "mimetype": "text/x-python",
   "name": "python",
   "nbconvert_exporter": "python",
   "pygments_lexer": "ipython3",
   "version": "3.7.6"
  }
 },
 "nbformat": 4,
 "nbformat_minor": 4
}
