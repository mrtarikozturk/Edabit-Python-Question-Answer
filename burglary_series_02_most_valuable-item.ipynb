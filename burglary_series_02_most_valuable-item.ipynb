{
 "cells": [
  {
   "cell_type": "markdown",
   "metadata": {},
   "source": [
    "You call your spouse to inform his/her most precious item is gone! Given a dictionary of stolen items, return the most expensive item on the items.\n",
    "\n",
    "Examples\n",
    "most_expensive_item({\n",
    "  \"piano\": 2000,\n",
    "}) ➞ \"piano\"\n",
    "\n",
    "most_expensive_item({\n",
    "  \"tv\": 30,\n",
    "  \"skate\": 20,\n",
    "}) ➞ \"tv\"\n",
    "\n",
    "most_expensive_item({\n",
    "  \"tv\": 30,\n",
    "  \"skate\": 20,\n",
    "  \"stereo\": 50,\n",
    "}) ➞ \"stereo\"\n",
    "Notes\n",
    "There will only be one most valuable item (no ties).\n",
    "The dictionary will always contain at least one item (no empty dictionary).\n",
    "\n",
    "https://edabit.com/challenge/3pzKWEg5oiaMemDdP"
   ]
  },
  {
   "cell_type": "code",
   "execution_count": 1,
   "metadata": {},
   "outputs": [
    {
     "name": "stdout",
     "output_type": "stream",
     "text": [
      "stereo\n",
      "skate\n",
      "tv\n"
     ]
    }
   ],
   "source": [
    "def most_expensive_item(products):\n",
    "    return max(products.items(), key=lambda item: item[1])[0]\n",
    "\n",
    "\n",
    "print(most_expensive_item({\n",
    "  \"tv\": 30,\n",
    "  \"skate\": 20,\n",
    "  \"stereo\": 50,\n",
    "}))\n",
    "\n",
    "print(most_expensive_item({\n",
    "  \"skate\": 20,\n",
    "}))\n",
    "\n",
    "print(most_expensive_item({\n",
    "  \"tv\": 30,\n",
    "  \"skate\": 20,\n",
    "}))"
   ]
  },
  {
   "cell_type": "code",
   "execution_count": 2,
   "metadata": {},
   "outputs": [
    {
     "name": "stdout",
     "output_type": "stream",
     "text": [
      "stereo\n",
      "skate\n",
      "tv\n"
     ]
    }
   ],
   "source": [
    "def most_expensive_item(products):\n",
    "    return max(products, key=products.get)\n",
    "\n",
    "print(most_expensive_item({\n",
    "  \"tv\": 30,\n",
    "  \"skate\": 20,\n",
    "  \"stereo\": 50,\n",
    "}))\n",
    "\n",
    "print(most_expensive_item({\n",
    "  \"skate\": 20,\n",
    "}))\n",
    "\n",
    "print(most_expensive_item({\n",
    "  \"tv\": 30,\n",
    "  \"skate\": 20,\n",
    "}))"
   ]
  }
 ],
 "metadata": {
  "kernelspec": {
   "display_name": "Python 3",
   "language": "python",
   "name": "python3"
  },
  "language_info": {
   "codemirror_mode": {
    "name": "ipython",
    "version": 3
   },
   "file_extension": ".py",
   "mimetype": "text/x-python",
   "name": "python",
   "nbconvert_exporter": "python",
   "pygments_lexer": "ipython3",
   "version": "3.7.6"
  }
 },
 "nbformat": 4,
 "nbformat_minor": 4
}
