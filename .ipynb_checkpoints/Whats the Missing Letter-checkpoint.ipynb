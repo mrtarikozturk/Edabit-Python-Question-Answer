{
 "cells": [
  {
   "cell_type": "markdown",
   "metadata": {},
   "source": [
    "Given a string of letters in the English alphabet, return the letter that's missing from \n",
    "the string. The missing letter will make the string be in alphabetical order (from A to Z).\n",
    "\n",
    "If there are no missing letters in the string, return \"No Missing Letter\".\n",
    "\n",
    "Examples\n",
    "missing_letter(\"abdefg\") ➞ \"c\"\n",
    "\n",
    "missing_letter(\"mnopqs\") ➞ \"r\"\n",
    "\n",
    "missing_letter(\"tuvxyz\") ➞ \"w\"\n",
    "\n",
    "missing_letter(\"ghijklmno\") ➞ \"No Missing Letter\"\n",
    "Notes\n",
    "The given string will never have more than one missing letter."
   ]
  },
  {
   "cell_type": "code",
   "execution_count": 1,
   "metadata": {
    "scrolled": false
   },
   "outputs": [
    {
     "name": "stdout",
     "output_type": "stream",
     "text": [
      "c\n",
      "r\n",
      "w\n",
      "k\n",
      "t\n",
      "No Missing Letter\n"
     ]
    }
   ],
   "source": [
    "def missing_letter(txt):\n",
    "    diff = set(range(ord(txt[0]), ord(txt[-1])+1)).difference(ord(i) for i in txt)\n",
    "    if diff ==set(): return \"No Missing Letter\"\n",
    "    else: return chr(list(diff)[0])\n",
    "\n",
    "print(missing_letter('abdefg'))\n",
    "print(missing_letter('mnopqs'))\n",
    "print(missing_letter('tuvxyz'))\n",
    "print(missing_letter('jlm'))\n",
    "print(missing_letter('rsu'))\n",
    "print(missing_letter('ghijklmno'))"
   ]
  },
  {
   "cell_type": "code",
   "execution_count": 2,
   "metadata": {},
   "outputs": [
    {
     "name": "stdout",
     "output_type": "stream",
     "text": [
      "c\n",
      "r\n",
      "w\n",
      "k\n",
      "t\n",
      "No Missing Letter\n"
     ]
    }
   ],
   "source": [
    "def missing_letter(txt):\n",
    "    for i in range(len(txt)-1):\n",
    "        if (ord(txt[i])+1) != ord(txt[i+1]):\n",
    "            return chr(ord(txt[i])+1)\n",
    "    return \"No Missing Letter\"\n",
    "\n",
    "print(missing_letter('abdefg'))\n",
    "print(missing_letter('mnopqs'))\n",
    "print(missing_letter('tuvxyz'))\n",
    "print(missing_letter('jlm'))\n",
    "print(missing_letter('rsu'))\n",
    "print(missing_letter('ghijklmno'))"
   ]
  },
  {
   "cell_type": "code",
   "execution_count": 3,
   "metadata": {},
   "outputs": [
    {
     "name": "stdout",
     "output_type": "stream",
     "text": [
      "c\n",
      "r\n",
      "w\n",
      "k\n",
      "t\n",
      "No Missing Letter\n"
     ]
    }
   ],
   "source": [
    "def missing_letter(txt):\n",
    "    for i in range(ord(txt[0]),ord(txt[-1])):\n",
    "        if chr(i+1) not in txt: return chr(i+1)\n",
    "    return 'No Missing Letter'\n",
    "\n",
    "print(missing_letter('abdefg'))\n",
    "print(missing_letter('mnopqs'))\n",
    "print(missing_letter('tuvxyz'))\n",
    "print(missing_letter('jlm'))\n",
    "print(missing_letter('rsu'))\n",
    "print(missing_letter('ghijklmno'))"
   ]
  },
  {
   "cell_type": "code",
   "execution_count": 4,
   "metadata": {},
   "outputs": [
    {
     "name": "stdout",
     "output_type": "stream",
     "text": [
      "c\n",
      "r\n",
      "w\n",
      "k\n",
      "t\n",
      "No Missing Letter\n"
     ]
    }
   ],
   "source": [
    "def missing_letter(txt):\n",
    "    res = {chr(i) for i in range(ord(txt[0]),ord(txt[-1])+1)} - set(txt)\n",
    "    return res.pop() if res else 'No Missing Letter'\n",
    "\n",
    "print(missing_letter('abdefg'))\n",
    "print(missing_letter('mnopqs'))\n",
    "print(missing_letter('tuvxyz'))\n",
    "print(missing_letter('jlm'))\n",
    "print(missing_letter('rsu'))\n",
    "print(missing_letter('ghijklmno'))"
   ]
  }
 ],
 "metadata": {
  "kernelspec": {
   "display_name": "Python 3",
   "language": "python",
   "name": "python3"
  },
  "language_info": {
   "codemirror_mode": {
    "name": "ipython",
    "version": 3
   },
   "file_extension": ".py",
   "mimetype": "text/x-python",
   "name": "python",
   "nbconvert_exporter": "python",
   "pygments_lexer": "ipython3",
   "version": "3.7.6"
  }
 },
 "nbformat": 4,
 "nbformat_minor": 4
}
