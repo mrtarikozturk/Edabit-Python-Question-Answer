{
 "cells": [
  {
   "cell_type": "markdown",
   "metadata": {},
   "source": [
    "Given a number n, return a sentence which describes the number in the following ways.\n",
    "\n",
    "- Always start the string with \"The most\".\n",
    "- If n is evenly divisible by 1, add \"brilliant\" to the sentence.\n",
    "- If n is evenly divisble by 2, add \"exciting\" to the sentence.\n",
    "- ... 3, add \"fantastic\" to the sentence.\n",
    "- ... 4, add \"virtuous\" to the sentence.\n",
    "- ... 5, add \"heart-warming\" ...\n",
    "- ... 6, add \"tear-jerking\" ...\n",
    "- ... 7, add \"beautiful\" ...\n",
    "- ... 8, add \"exhilarating\" ...\n",
    "- ... 9, add \"emotional\" ...\n",
    "- If n is evenly divisible by 10, add inspiring to the sentence.\n",
    "- Always end the string with \"number is\" n!\n",
    "\n",
    "Examples\n",
    "\n",
    "describe_num(13) ➞ \"The most brilliant number is 13!\"\n",
    "- 13 is evenly divisble by 1 only\n",
    "\n",
    "describe_num(4) ➞ \"The most brilliant exciting virtuous number is 4!\"\n",
    "- 4 is evenly divisible by 1, 2 and 4\n",
    "\n",
    "describe_num(21) ➞ \"The most brilliant fantastic beautiful number is 21!\"\n",
    "- 21 is evenly divisible by 1, 3 and 7\n",
    "\n",
    "describe_num(60) ➞ \"The most brilliant exciting fantastic virtuous heart-warming tear-jerking inspiring number is 60!\"\n",
    "- 60 is evenly divisible by 1, 2, 3, 4, 5, 6 and 10"
   ]
  },
  {
   "cell_type": "code",
   "execution_count": 6,
   "metadata": {},
   "outputs": [
    {
     "name": "stdout",
     "output_type": "stream",
     "text": [
      "The most brilliant exciting fantastic heart-warming tear-jerking inspiring number is 30!\n",
      "The most brilliant fantastic heart-warming number is 15!\n",
      "The most brilliant exciting fantastic tear-jerking emotional number is 54!\n",
      "The most brilliant exciting virtuous heart-warming inspiring number is 100!\n",
      "The most brilliant exciting fantastic heart-warming tear-jerking inspiring number is 150!\n",
      "The most brilliant number is 167!\n"
     ]
    }
   ],
   "source": [
    "def describe_num(n):\n",
    "    result = 'The most'\n",
    "    for i in range(1, 11):\n",
    "        if n % i == 0:\n",
    "            if i == 1: result += ' brilliant'\n",
    "            elif i == 2: result += ' exciting'\n",
    "            elif i == 3: result += ' fantastic'\n",
    "            elif i == 4: result += ' virtuous'\n",
    "            elif i == 5: result += ' heart-warming'\n",
    "            elif i == 6: result += ' tear-jerking'\n",
    "            elif i == 7: result += ' beautiful'\n",
    "            elif i == 8: result += ' exhilarating'\n",
    "            elif i == 9: result += ' emotional'\n",
    "            elif i == 10: result += ' inspiring'print(describe_num(30))\n",
    "    return \"{} number is {}!\".format(result, n)\n",
    "            \n",
    "            \n",
    "print(describe_num(30))\n",
    "print(describe_num(15))   \n",
    "print(describe_num(54)) \n",
    "print(describe_num(100)) \n",
    "print(describe_num(150)) \n",
    "print(describe_num(167)) "
   ]
  },
  {
   "cell_type": "code",
   "execution_count": 2,
   "metadata": {},
   "outputs": [
    {
     "name": "stdout",
     "output_type": "stream",
     "text": [
      "The most brilliant exciting fantastic heart-warming tear-jerking inspiring number is 30!\n",
      "The most brilliant fantastic heart-warming number is 15!\n",
      "The most brilliant exciting fantastic tear-jerking emotional number is 54!\n",
      "The most brilliant exciting virtuous heart-warming inspiring number is 100!\n",
      "The most brilliant exciting fantastic heart-warming tear-jerking inspiring number is 150!\n",
      "The most brilliant number is 167!\n"
     ]
    }
   ],
   "source": [
    "# Usage of list structure\n",
    "def describe_num(n):\n",
    "    adj=['brilliant','exciting','fantastic','virtuous','heart-warming','tear-jerking','beautiful',\n",
    "         'exhillarating','emotional','inspiring']\n",
    "    return 'The most {} number is {}!'.format(' '.join(adj[i] for i in range(len(adj)) if not n%(i+1)),n)\n",
    "\n",
    "print(describe_num(30))\n",
    "print(describe_num(15))   \n",
    "print(describe_num(54)) \n",
    "print(describe_num(100)) \n",
    "print(describe_num(150)) \n",
    "print(describe_num(167)) "
   ]
  },
  {
   "cell_type": "code",
   "execution_count": 8,
   "metadata": {},
   "outputs": [
    {
     "name": "stdout",
     "output_type": "stream",
     "text": [
      "The most brilliant exciting fantastic heart-warming tear-jerking inspiring number is 30!\n",
      "The most brilliant fantastic heart-warming number is 15!\n",
      "The most brilliant exciting fantastic tear-jerking emotional number is 54!\n",
      "The most brilliant exciting virtuous heart-warming inspiring number is 100!\n",
      "The most brilliant exciting fantastic heart-warming tear-jerking inspiring number is 150!\n",
      "The most brilliant number is 167!\n"
     ]
    }
   ],
   "source": [
    "# dict structure, string.format(), string concatenate,\n",
    "\n",
    "def describe_num(n):\n",
    "    d = {1:'brilliant', 2:'exciting', 3:'fantastic', 4:'virtuous', 5:'heart-warming', 6:'tear-jerking', \n",
    "         7:'beautiful', 8:'exhillarating', 9:'emotional', 10:'inspiring'}\n",
    "        \n",
    "#     return 'The most ' + ' '.join([d[i] for i in range(1,11) if n % i == 0]) + \" number is \" + str(n) + '!'\n",
    "\n",
    "    return 'The most {} number is {}!'.format(' '.join([d[i] for i in range(1,11) if n % i == 0]), n)\n",
    "\n",
    "print(describe_num(30))\n",
    "print(describe_num(15))   \n",
    "print(describe_num(54)) \n",
    "print(describe_num(100)) \n",
    "print(describe_num(150)) \n",
    "print(describe_num(167)) "
   ]
  },
  {
   "cell_type": "code",
   "execution_count": 12,
   "metadata": {},
   "outputs": [
    {
     "name": "stdout",
     "output_type": "stream",
     "text": [
      "The most brilliant exciting fantastic heart-warming tear-jerking inspiring number is 30!\n",
      "The most brilliant fantastic heart-warming number is 15!\n",
      "The most brilliant exciting fantastic tear-jerking emotional number is 54!\n",
      "The most brilliant exciting virtuous heart-warming inspiring number is 100!\n",
      "The most brilliant exciting fantastic heart-warming tear-jerking inspiring number is 150!\n",
      "The most brilliant number is 167!\n"
     ]
    }
   ],
   "source": [
    "# tuple structure, string.format(), string concatenate,\n",
    "# Using tuple structure is more sensible. Because, our data list is constant, it won't be changed.\n",
    "\n",
    "def describe_num(n):\n",
    "    \n",
    "    d = ('brilliant', 'exciting', 'fantastic', 'virtuous', 'heart-warming', 'tear-jerking', 'beautiful', \n",
    "         'exhillarating', 'emotional', 'inspiring')\n",
    "    \n",
    "#     return 'The most ' + ' '.join([d[i] for i in range(1,11) if n % (i + 1) == 0]) + \" number is \" + str(n) + '!'\n",
    "\n",
    "    return 'The most {} number is {}!'.format(' '.join([d[i] for i in range(0,11) if n % (i + 1) == 0]), n)\n",
    "\n",
    "print(describe_num(30))\n",
    "print(describe_num(15))   \n",
    "print(describe_num(54)) \n",
    "print(describe_num(100)) \n",
    "print(describe_num(150)) \n",
    "print(describe_num(167)) "
   ]
  },
  {
   "cell_type": "code",
   "execution_count": 14,
   "metadata": {},
   "outputs": [
    {
     "ename": "NameError",
     "evalue": "name 'result_lst' is not defined",
     "output_type": "error",
     "traceback": [
      "\u001b[1;31m---------------------------------------------------------------------------\u001b[0m",
      "\u001b[1;31mNameError\u001b[0m                                 Traceback (most recent call last)",
      "\u001b[1;32m<ipython-input-14-aa276c5411dd>\u001b[0m in \u001b[0;36m<module>\u001b[1;34m\u001b[0m\n\u001b[0;32m     13\u001b[0m     \u001b[1;32mreturn\u001b[0m \u001b[1;34m\"The most {0} number is {1}!\"\u001b[0m\u001b[1;33m.\u001b[0m\u001b[0mformat\u001b[0m\u001b[1;33m(\u001b[0m\u001b[1;34m\" \"\u001b[0m\u001b[1;33m.\u001b[0m\u001b[0mjoin\u001b[0m\u001b[1;33m(\u001b[0m\u001b[0mresult_lst\u001b[0m\u001b[1;33m)\u001b[0m \u001b[1;33m,\u001b[0m \u001b[0mnum\u001b[0m\u001b[1;33m)\u001b[0m\u001b[1;33m;\u001b[0m\u001b[1;33m\u001b[0m\u001b[1;33m\u001b[0m\u001b[0m\n\u001b[0;32m     14\u001b[0m \u001b[1;33m\u001b[0m\u001b[0m\n\u001b[1;32m---> 15\u001b[1;33m \u001b[0mprint\u001b[0m\u001b[1;33m(\u001b[0m\u001b[0mdescribe_num\u001b[0m\u001b[1;33m(\u001b[0m\u001b[1;36m30\u001b[0m\u001b[1;33m)\u001b[0m\u001b[1;33m)\u001b[0m\u001b[1;33m\u001b[0m\u001b[1;33m\u001b[0m\u001b[0m\n\u001b[0m\u001b[0;32m     16\u001b[0m \u001b[0mprint\u001b[0m\u001b[1;33m(\u001b[0m\u001b[0mdescribe_num\u001b[0m\u001b[1;33m(\u001b[0m\u001b[1;36m15\u001b[0m\u001b[1;33m)\u001b[0m\u001b[1;33m)\u001b[0m\u001b[1;33m\u001b[0m\u001b[1;33m\u001b[0m\u001b[0m\n\u001b[0;32m     17\u001b[0m \u001b[0mprint\u001b[0m\u001b[1;33m(\u001b[0m\u001b[0mdescribe_num\u001b[0m\u001b[1;33m(\u001b[0m\u001b[1;36m54\u001b[0m\u001b[1;33m)\u001b[0m\u001b[1;33m)\u001b[0m\u001b[1;33m\u001b[0m\u001b[1;33m\u001b[0m\u001b[0m\n",
      "\u001b[1;32m<ipython-input-14-aa276c5411dd>\u001b[0m in \u001b[0;36mdescribe_num\u001b[1;34m(num)\u001b[0m\n\u001b[0;32m      9\u001b[0m     \u001b[1;32mfor\u001b[0m \u001b[0mi\u001b[0m \u001b[1;32min\u001b[0m \u001b[0mrange\u001b[0m\u001b[1;33m(\u001b[0m\u001b[1;36m1\u001b[0m\u001b[1;33m,\u001b[0m\u001b[1;36m11\u001b[0m\u001b[1;33m)\u001b[0m\u001b[1;33m:\u001b[0m\u001b[1;33m\u001b[0m\u001b[1;33m\u001b[0m\u001b[0m\n\u001b[0;32m     10\u001b[0m         \u001b[1;32mif\u001b[0m \u001b[0mnum\u001b[0m \u001b[1;33m%\u001b[0m \u001b[0mi\u001b[0m \u001b[1;33m==\u001b[0m \u001b[1;36m0\u001b[0m\u001b[1;33m:\u001b[0m\u001b[1;33m\u001b[0m\u001b[1;33m\u001b[0m\u001b[0m\n\u001b[1;32m---> 11\u001b[1;33m             \u001b[0mresult_lst\u001b[0m\u001b[1;33m.\u001b[0m\u001b[0mappend\u001b[0m\u001b[1;33m(\u001b[0m\u001b[0md\u001b[0m\u001b[1;33m[\u001b[0m\u001b[0mi\u001b[0m\u001b[1;33m-\u001b[0m\u001b[1;36m1\u001b[0m\u001b[1;33m]\u001b[0m\u001b[1;33m)\u001b[0m\u001b[1;33m;\u001b[0m\u001b[1;33m\u001b[0m\u001b[1;33m\u001b[0m\u001b[0m\n\u001b[0m\u001b[0;32m     12\u001b[0m \u001b[1;33m\u001b[0m\u001b[0m\n\u001b[0;32m     13\u001b[0m     \u001b[1;32mreturn\u001b[0m \u001b[1;34m\"The most {0} number is {1}!\"\u001b[0m\u001b[1;33m.\u001b[0m\u001b[0mformat\u001b[0m\u001b[1;33m(\u001b[0m\u001b[1;34m\" \"\u001b[0m\u001b[1;33m.\u001b[0m\u001b[0mjoin\u001b[0m\u001b[1;33m(\u001b[0m\u001b[0mresult_lst\u001b[0m\u001b[1;33m)\u001b[0m \u001b[1;33m,\u001b[0m \u001b[0mnum\u001b[0m\u001b[1;33m)\u001b[0m\u001b[1;33m;\u001b[0m\u001b[1;33m\u001b[0m\u001b[1;33m\u001b[0m\u001b[0m\n",
      "\u001b[1;31mNameError\u001b[0m: name 'result_lst' is not defined"
     ]
    }
   ],
   "source": [
    "def describe_num(num):\n",
    "    \n",
    "    d = ('brilliant', 'exciting', 'fantastic', 'virtuous', 'heart-warming', 'tear-jerking', 'beautiful', \n",
    "         'exhillarating', 'emotional', 'inspiring')\n",
    "# we choose tuple structure because our data list won't be chnaged.\n",
    "    \n",
    "#     result_lst  = [];\n",
    "    \n",
    "    for i in range(1,11):\n",
    "        if num % i == 0:\n",
    "            result_lst.append(d[i-1]);\n",
    "            \n",
    "    return \"The most {0} number is {1}!\".format(\" \".join(result_lst) , num);\n",
    "\n",
    "print(describe_num(30))\n",
    "print(describe_num(15))   \n",
    "print(describe_num(54)) \n",
    "print(describe_num(100)) \n",
    "print(describe_num(150)) \n",
    "print(describe_num(167)) "
   ]
  }
 ],
 "metadata": {
  "kernelspec": {
   "display_name": "Python 3",
   "language": "python",
   "name": "python3"
  },
  "language_info": {
   "codemirror_mode": {
    "name": "ipython",
    "version": 3
   },
   "file_extension": ".py",
   "mimetype": "text/x-python",
   "name": "python",
   "nbconvert_exporter": "python",
   "pygments_lexer": "ipython3",
   "version": "3.7.6"
  }
 },
 "nbformat": 4,
 "nbformat_minor": 4
}
