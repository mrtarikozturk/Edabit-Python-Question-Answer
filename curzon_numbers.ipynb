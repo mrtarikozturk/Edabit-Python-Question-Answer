{
 "cells": [
  {
   "cell_type": "markdown",
   "metadata": {},
   "source": [
    "In this challenge, establish if a given integer num is a Curzon number. If 1 plus 2 elevated to num is exactly divisible by 1 plus 2 multiplied by num, then num is a Curzon number.\n",
    "\n",
    "Given a non-negative integer num, implement a function that returns True if num is a Curzon number, or False otherwise.\n",
    "\n",
    "Examples\n",
    "- is_curzon(5) ➞ True\n",
    "\n",
    "    2 ** 5 + 1 = 33\n",
    "\n",
    "    2 * 5 + 1 = 11\n",
    "\n",
    "    33 is a multiple of 11\n",
    "\n",
    "- is_curzon(10) ➞ False\n",
    "\n",
    "    2 ** 10 + 1 = 1025\n",
    "\n",
    "    2 * 10 + 1 = 21\n",
    "\n",
    "    1025 is not a multiple of 21\n",
    "\n",
    "- is_curzon(14) ➞ True\n",
    "\n",
    "    2 ** 14 + 1 = 16385\n",
    "\n",
    "    2 * 14 + 1 = 29\n",
    "\n",
    "    16385 is a multiple of 29\n",
    "  \n",
    "https://edabit.com/challenge/HYjQKDXFfeppcWmLX"
   ]
  },
  {
   "cell_type": "code",
   "execution_count": 1,
   "metadata": {},
   "outputs": [
    {
     "name": "stdout",
     "output_type": "stream",
     "text": [
      "True\n",
      "False\n",
      "True\n",
      "True\n",
      "True\n",
      "False\n",
      "False\n",
      "False\n",
      "False\n"
     ]
    }
   ],
   "source": [
    "def is_curzon(num):\n",
    "    power = 2 ** num +1\n",
    "    multiple = 2 * num + 1\n",
    "    if power % multiple == 0:\n",
    "        return True\n",
    "    else:\n",
    "        return False\n",
    "    \n",
    "print(is_curzon(5))\n",
    "print(is_curzon(10))\n",
    "print(is_curzon(14))\n",
    "print(is_curzon(86))\n",
    "print(is_curzon(90))\n",
    "print(is_curzon(115))\n",
    "print(is_curzon(120))\n",
    "print(is_curzon(193))\n",
    "print(is_curzon(294))"
   ]
  },
  {
   "cell_type": "code",
   "execution_count": 2,
   "metadata": {},
   "outputs": [
    {
     "name": "stdout",
     "output_type": "stream",
     "text": [
      "True\n",
      "False\n",
      "True\n",
      "True\n",
      "True\n",
      "False\n",
      "False\n",
      "False\n",
      "False\n"
     ]
    }
   ],
   "source": [
    "def is_curzon(n):\n",
    "    return not (2**n + 1) % (2*n + 1)\n",
    "\n",
    "print(is_curzon(5))\n",
    "print(is_curzon(10))\n",
    "print(is_curzon(14))\n",
    "print(is_curzon(86))\n",
    "print(is_curzon(90))\n",
    "print(is_curzon(115))\n",
    "print(is_curzon(120))\n",
    "print(is_curzon(193))\n",
    "print(is_curzon(294))"
   ]
  },
  {
   "cell_type": "code",
   "execution_count": 3,
   "metadata": {},
   "outputs": [
    {
     "name": "stdout",
     "output_type": "stream",
     "text": [
      "True\n",
      "False\n",
      "True\n",
      "True\n",
      "True\n",
      "False\n",
      "False\n",
      "False\n",
      "False\n"
     ]
    }
   ],
   "source": [
    "def is_curzon(num):\n",
    "    return (2**num + 1) % (2 * num + 1) == 0\n",
    "\n",
    "print(is_curzon(5))\n",
    "print(is_curzon(10))\n",
    "print(is_curzon(14))\n",
    "print(is_curzon(86))\n",
    "print(is_curzon(90))\n",
    "print(is_curzon(115))\n",
    "print(is_curzon(120))\n",
    "print(is_curzon(193))\n",
    "print(is_curzon(294))"
   ]
  },
  {
   "cell_type": "code",
   "execution_count": 4,
   "metadata": {},
   "outputs": [
    {
     "name": "stdout",
     "output_type": "stream",
     "text": [
      "True\n",
      "False\n",
      "True\n",
      "True\n",
      "True\n",
      "False\n",
      "False\n",
      "False\n",
      "False\n"
     ]
    }
   ],
   "source": [
    "def is_curzon(num):\n",
    "    a = 2 ** num +1\n",
    "    b = 2 * num + 1\n",
    "    return True if a%b==0 else False\n",
    "\n",
    "print(is_curzon(5))\n",
    "print(is_curzon(10))\n",
    "print(is_curzon(14))\n",
    "print(is_curzon(86))\n",
    "print(is_curzon(90))\n",
    "print(is_curzon(115))\n",
    "print(is_curzon(120))\n",
    "print(is_curzon(193))\n",
    "print(is_curzon(294))"
   ]
  },
  {
   "cell_type": "code",
   "execution_count": 5,
   "metadata": {},
   "outputs": [
    {
     "name": "stdout",
     "output_type": "stream",
     "text": [
      "True\n",
      "False\n",
      "True\n",
      "True\n",
      "True\n",
      "False\n",
      "False\n",
      "False\n",
      "False\n"
     ]
    }
   ],
   "source": [
    "def is_curzon(num):\n",
    "    return True if (2 ** num + 1) % (2 * num + 1) == 0 else False\n",
    "\n",
    "print(is_curzon(5))\n",
    "print(is_curzon(10))\n",
    "print(is_curzon(14))\n",
    "print(is_curzon(86))\n",
    "print(is_curzon(90))\n",
    "print(is_curzon(115))\n",
    "print(is_curzon(120))\n",
    "print(is_curzon(193))\n",
    "print(is_curzon(294))"
   ]
  },
  {
   "cell_type": "code",
   "execution_count": 6,
   "metadata": {},
   "outputs": [
    {
     "name": "stdout",
     "output_type": "stream",
     "text": [
      "True\n",
      "False\n",
      "True\n",
      "True\n",
      "True\n",
      "False\n",
      "False\n",
      "False\n",
      "False\n"
     ]
    }
   ],
   "source": [
    "is_curzon = lambda n: not ((1 << n) + 1) % (2 * n + 1)\n",
    "\n",
    "print(is_curzon(5))\n",
    "print(is_curzon(10))\n",
    "print(is_curzon(14))\n",
    "print(is_curzon(86))\n",
    "print(is_curzon(90))\n",
    "print(is_curzon(115))\n",
    "print(is_curzon(120))\n",
    "print(is_curzon(193))\n",
    "print(is_curzon(294))"
   ]
  }
 ],
 "metadata": {
  "kernelspec": {
   "display_name": "Python 3",
   "language": "python",
   "name": "python3"
  },
  "language_info": {
   "codemirror_mode": {
    "name": "ipython",
    "version": 3
   },
   "file_extension": ".py",
   "mimetype": "text/x-python",
   "name": "python",
   "nbconvert_exporter": "python",
   "pygments_lexer": "ipython3",
   "version": "3.7.6"
  }
 },
 "nbformat": 4,
 "nbformat_minor": 4
}
