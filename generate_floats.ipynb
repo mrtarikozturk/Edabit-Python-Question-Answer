{
 "cells": [
  {
   "cell_type": "markdown",
   "metadata": {},
   "source": [
    "Python's range function can only generate a list of integers, your job is to generate a list of floats. Generate a list of values between 0 and an endpoint n spaced at i intervals.\n",
    "\n",
    "Examples\n",
    "gen_values(2, 0.25) ➞ [0.0, 0.25, 0.5, 0.75, 1.0, 1.25, 1.5, 1.75, 2.0]\n",
    "\n",
    "gen_values(1, 0.1) ➞[0.0, 0.1, 0.2, 0.3, 0.4, 0.5, 0.6, 0.7, 0.8, 0.9, 1.0]\n",
    "\n",
    "gen_values(20, 2) ➞ [0, 2, 4, 6, 8, 10, 12, 14, 16, 18, 20]\n",
    "Notes\n",
    "The endpoint will always be a positive integer.\n",
    "This function should also work for generating integers (last example)."
   ]
  },
  {
   "cell_type": "code",
   "execution_count": 1,
   "metadata": {
    "scrolled": true
   },
   "outputs": [
    {
     "name": "stdout",
     "output_type": "stream",
     "text": [
      "[0.0, 0.5, 1.0, 1.5, 2.0, 2.5, 3.0, 3.5, 4.0, 4.5, 5.0, 5.5, 6.0, 6.5, 7.0, 7.5, 8.0, 8.5, 9.0, 9.5, 10.0]\n",
      "[0.0, 0.25, 0.5, 0.75, 1.0, 1.25, 1.5, 1.75, 2.0, 2.25, 2.5, 2.75, 3.0, 3.25, 3.5, 3.75, 4.0, 4.25, 4.5, 4.75, 5.0]\n",
      "[0.0, 1.5, 3.0, 4.5, 6.0, 7.5, 9.0]\n",
      "[0.0, 0.04, 0.08, 0.12, 0.16, 0.2, 0.24, 0.28, 0.32, 0.36, 0.4, 0.44, 0.48, 0.52, 0.56, 0.6, 0.64, 0.68, 0.72, 0.76, 0.8, 0.84, 0.88, 0.92, 0.96, 1.0]\n",
      "[0.0, 0.09, 0.18, 0.27, 0.36, 0.45, 0.54, 0.63, 0.72, 0.81, 0.9, 0.99]\n",
      "[0.0, 1.5, 3.0]\n",
      "[0, 2, 4, 6, 8, 10, 12, 14, 16, 18, 20]\n"
     ]
    }
   ],
   "source": [
    "def gen_values(n, i):\n",
    "    return [round(x*i, 5) for x in range(int(n/i)+1)]\n",
    "\n",
    "print(gen_values(10, 0.5))\n",
    "print(gen_values(5, 0.25))\n",
    "print(gen_values(9, 1.5))\n",
    "print(gen_values(1, 0.04))\n",
    "print(gen_values(1, 0.09))\n",
    "print(gen_values(4, 1.5))\n",
    "print(gen_values(20, 2))\n"
   ]
  },
  {
   "cell_type": "code",
   "execution_count": 2,
   "metadata": {},
   "outputs": [
    {
     "name": "stdout",
     "output_type": "stream",
     "text": [
      "[0.0, 0.5, 1.0, 1.5, 2.0, 2.5, 3.0, 3.5, 4.0, 4.5, 5.0, 5.5, 6.0, 6.5, 7.0, 7.5, 8.0, 8.5, 9.0, 9.5, 10.0]\n",
      "[0.0, 0.25, 0.5, 0.75, 1.0, 1.25, 1.5, 1.75, 2.0, 2.25, 2.5, 2.75, 3.0, 3.25, 3.5, 3.75, 4.0, 4.25, 4.5, 4.75, 5.0]\n",
      "[0.0, 1.5, 3.0, 4.5, 6.0, 7.5, 9.0]\n",
      "[0.0, 0.04, 0.08, 0.12, 0.16, 0.2, 0.24, 0.28, 0.32, 0.36, 0.4, 0.44, 0.48, 0.52, 0.56, 0.6, 0.64, 0.68, 0.72, 0.76, 0.8, 0.84, 0.88, 0.92, 0.96, 1.0]\n",
      "[0.0, 0.09, 0.18, 0.27, 0.36, 0.45, 0.54, 0.63, 0.72, 0.81, 0.9, 0.99]\n",
      "[0.0, 1.5, 3.0]\n",
      "[0.0, 2.0, 4.0, 6.0, 8.0, 10.0, 12.0, 14.0, 16.0, 18.0, 20.0]\n"
     ]
    }
   ],
   "source": [
    "def gen_values(n, i):\n",
    "    a = []\n",
    "    b = 0.0\n",
    "    while not b>n:\n",
    "        a.append(b)\n",
    "        b = round(b+i,2)\n",
    "    return a\n",
    "\n",
    "print(gen_values(10, 0.5))\n",
    "print(gen_values(5, 0.25))\n",
    "print(gen_values(9, 1.5))\n",
    "print(gen_values(1, 0.04))\n",
    "print(gen_values(1, 0.09))\n",
    "print(gen_values(4, 1.5))\n",
    "print(gen_values(20, 2))"
   ]
  }
 ],
 "metadata": {
  "kernelspec": {
   "display_name": "Python 3",
   "language": "python",
   "name": "python3"
  },
  "language_info": {
   "codemirror_mode": {
    "name": "ipython",
    "version": 3
   },
   "file_extension": ".py",
   "mimetype": "text/x-python",
   "name": "python",
   "nbconvert_exporter": "python",
   "pygments_lexer": "ipython3",
   "version": "3.7.6"
  }
 },
 "nbformat": 4,
 "nbformat_minor": 4
}
