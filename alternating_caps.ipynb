{
 "cells": [
  {
   "cell_type": "markdown",
   "metadata": {},
   "source": [
    "Create a function that alternates the case of the letters in a string (known as Spongecase).\n",
    "\n",
    "Examples\n",
    "alternating_caps(\"Hello\") ➞ \"HeLlO\"\n",
    "\n",
    "alternating_caps(\"How are you?\") ➞ \"HoW aRe YoU?\"\n",
    "\n",
    "alternating_caps(\"OMG this website is awesome!\") ➞ \"OmG tHiS wEbSiTe Is AwEsOmE!\"\n",
    "\n",
    "Notes\n",
    "\n",
    "The first letter should always be UPPERCASE.\n",
    "\n",
    "Ignore spaces.\n",
    "\n",
    "https://edabit.com/challenge/hzs9hZXpgYdGM3iwB"
   ]
  },
  {
   "cell_type": "code",
   "execution_count": 3,
   "metadata": {
    "scrolled": true
   },
   "outputs": [
    {
     "name": "stdout",
     "output_type": "stream",
     "text": [
      "AlTeRnAtInG cApS\n",
      "WhAt Is YoUr NaMe?\n",
      "LoReM iPsUm DoLoR sIt AmEt CoNsEcTeTuR aDiPiSiCiNg ElIt.\n",
      "OmG tHiS wEbSiTe Is AwEsOmE!\n",
      "ThE qUiCk BrOwN fOx JuMpS oVeR tHe LaZy DoG\n",
      "ThE iNtEnT iS tO pRoViDe PlAyErS wItH a SeNsE oF pRiDe AnD aCcOmPlIsHmEnT fOr UnLoCkInG dIfFeReNt HeRoEs.\n"
     ]
    }
   ],
   "source": [
    "def alternating_caps(txt):\n",
    "    counter = 0\n",
    "    sent = ''\n",
    "    for i in txt:\n",
    "        if i in [' ', '?', '!', '.']:\n",
    "            sent += i\n",
    "        else:\n",
    "            if counter % 2 == 0:\n",
    "                sent += i.upper()\n",
    "            else:\n",
    "                sent += i.lower()\n",
    "            counter += 1\n",
    "    return sent\n",
    "\n",
    "print(alternating_caps(\"alternating caps\"))\n",
    "print(alternating_caps(\"What is your name?\"))\n",
    "print(alternating_caps(\"Lorem ipsum dolor sit amet consectetur adipisicing elit.\"))\n",
    "print(alternating_caps(\"OMG this website is awesome!\"))\n",
    "print(alternating_caps(\"The quick brown fox jumps over the lazy dog\"))\n",
    "print(alternating_caps(\"The intent is to provide players with a sense of pride and accomplishment for unlocking different heroes.\"))\n"
   ]
  },
  {
   "cell_type": "code",
   "execution_count": 4,
   "metadata": {},
   "outputs": [
    {
     "name": "stdout",
     "output_type": "stream",
     "text": [
      "AlTeRnAtInG cApS\n",
      "WhAt Is YoUr NaMe?\n",
      "LoReM iPsUm DoLoR sIt AmEt CoNsEcTeTuR aDiPiSiCiNg ElIt.\n",
      "OmG tHiS wEbSiTe Is AwEsOmE!\n",
      "ThE qUiCk BrOwN fOx JuMpS oVeR tHe LaZy DoG\n",
      "ThE iNtEnT iS tO pRoViDe PlAyErS wItH a SeNsE oF pRiDe AnD aCcOmPlIsHmEnT fOr UnLoCkInG dIfFeReNt HeRoEs.\n"
     ]
    }
   ],
   "source": [
    "def alternating_caps(txt):\n",
    "    res = ''\n",
    "    cap = True\n",
    "    for ch in txt:\n",
    "        res += ch.upper() if cap else ch.lower()\n",
    "        if ch.isalpha():\n",
    "            cap = not cap\n",
    "    return res\n",
    "\n",
    "print(alternating_caps(\"alternating caps\"))\n",
    "print(alternating_caps(\"What is your name?\"))\n",
    "print(alternating_caps(\"Lorem ipsum dolor sit amet consectetur adipisicing elit.\"))\n",
    "print(alternating_caps(\"OMG this website is awesome!\"))\n",
    "print(alternating_caps(\"The quick brown fox jumps over the lazy dog\"))\n",
    "print(alternating_caps(\"The intent is to provide players with a sense of pride and accomplishment for unlocking different heroes.\"))\n"
   ]
  }
 ],
 "metadata": {
  "kernelspec": {
   "display_name": "Python 3",
   "language": "python",
   "name": "python3"
  },
  "language_info": {
   "codemirror_mode": {
    "name": "ipython",
    "version": 3
   },
   "file_extension": ".py",
   "mimetype": "text/x-python",
   "name": "python",
   "nbconvert_exporter": "python",
   "pygments_lexer": "ipython3",
   "version": "3.7.6"
  }
 },
 "nbformat": 4,
 "nbformat_minor": 4
}
