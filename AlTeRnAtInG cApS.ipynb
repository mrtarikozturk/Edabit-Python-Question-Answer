{
 "cells": [
  {
   "cell_type": "code",
   "execution_count": null,
   "metadata": {},
   "outputs": [],
   "source": [
    "Create a function that alternates the case of the letters in a string (known as Spongecase).\n",
    "\n",
    "Examples\n",
    "alternating_caps(\"Hello\") ➞ \"HeLlO\"\n",
    "\n",
    "alternating_caps(\"How are you?\") ➞ \"HoW aRe YoU?\"\n",
    "\n",
    "alternating_caps(\"OMG this website is awesome!\") ➞ \"OmG tHiS wEbSiTe Is AwEsOmE!\"\n",
    "Notes\n",
    "The first letter should always be UPPERCASE.\n",
    "Ignore spaces."
   ]
  },
  {
   "cell_type": "code",
   "execution_count": 1,
   "metadata": {},
   "outputs": [
    {
     "name": "stdout",
     "output_type": "stream",
     "text": [
      "AlTeRnAtInG cApS\n"
     ]
    },
    {
     "ename": "TypeError",
     "evalue": "alternating_caps() missing 1 required positional argument: 'txt'",
     "output_type": "error",
     "traceback": [
      "\u001b[1;31m---------------------------------------------------------------------------\u001b[0m",
      "\u001b[1;31mTypeError\u001b[0m                                 Traceback (most recent call last)",
      "\u001b[1;32m<ipython-input-1-1b2e6015aa0d>\u001b[0m in \u001b[0;36m<module>\u001b[1;34m\u001b[0m\n\u001b[0;32m     14\u001b[0m \u001b[1;33m\u001b[0m\u001b[0m\n\u001b[0;32m     15\u001b[0m \u001b[0mprint\u001b[0m\u001b[1;33m(\u001b[0m\u001b[0malternating_caps\u001b[0m\u001b[1;33m(\u001b[0m\u001b[1;34m\"alternating caps\"\u001b[0m\u001b[1;33m)\u001b[0m\u001b[1;33m)\u001b[0m\u001b[1;33m\u001b[0m\u001b[1;33m\u001b[0m\u001b[0m\n\u001b[1;32m---> 16\u001b[1;33m \u001b[0mprint\u001b[0m\u001b[1;33m(\u001b[0m\u001b[0malternating_caps\u001b[0m\u001b[1;33m(\u001b[0m\u001b[1;33m)\u001b[0m\u001b[1;33m)\u001b[0m\u001b[1;33m\u001b[0m\u001b[1;33m\u001b[0m\u001b[0m\n\u001b[0m\u001b[0;32m     17\u001b[0m \u001b[0mprint\u001b[0m\u001b[1;33m(\u001b[0m\u001b[0malternating_caps\u001b[0m\u001b[1;33m(\u001b[0m\u001b[1;33m)\u001b[0m\u001b[1;33m)\u001b[0m\u001b[1;33m\u001b[0m\u001b[1;33m\u001b[0m\u001b[0m\n\u001b[0;32m     18\u001b[0m \u001b[0mprint\u001b[0m\u001b[1;33m(\u001b[0m\u001b[0malternating_caps\u001b[0m\u001b[1;33m(\u001b[0m\u001b[1;33m)\u001b[0m\u001b[1;33m)\u001b[0m\u001b[1;33m\u001b[0m\u001b[1;33m\u001b[0m\u001b[0m\n",
      "\u001b[1;31mTypeError\u001b[0m: alternating_caps() missing 1 required positional argument: 'txt'"
     ]
    }
   ],
   "source": [
    "def alternating_caps(txt):\n",
    "    counter = 0\n",
    "    sent = ''\n",
    "    for i in txt:\n",
    "        if i in [' ', '?', '!', '.']:\n",
    "            sent += i\n",
    "        else:\n",
    "            if counter % 2 == 0:\n",
    "                sent += i.upper()\n",
    "            else:\n",
    "                sent += i.lower()\n",
    "            counter += 1\n",
    "    return sent\n",
    "\n",
    "print(alternating_caps(\"alternating caps\"))\n",
    "print(alternating_caps())\n",
    "print(alternating_caps())\n",
    "print(alternating_caps())\n",
    "print(alternating_caps())"
   ]
  }
 ],
 "metadata": {
  "kernelspec": {
   "display_name": "Python 3",
   "language": "python",
   "name": "python3"
  },
  "language_info": {
   "codemirror_mode": {
    "name": "ipython",
    "version": 3
   },
   "file_extension": ".py",
   "mimetype": "text/x-python",
   "name": "python",
   "nbconvert_exporter": "python",
   "pygments_lexer": "ipython3",
   "version": "3.7.6"
  }
 },
 "nbformat": 4,
 "nbformat_minor": 4
}
