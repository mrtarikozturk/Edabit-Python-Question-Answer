{
 "cells": [
  {
   "cell_type": "markdown",
   "metadata": {},
   "source": [
    "Write a function that returns a list of elements [number, multiplicity]. The multiplicity of a number refers to the number of times it occurs in the list.\n",
    "\n",
    "To illustrate:\n",
    "\n",
    "[5, 5, 1, 1, 5, 5, 3]\n",
    "[[5, 4], [1, 2], [3, 1]]\n",
    "\n",
    "Since 5 appears 4 times, 1 appears twice, and 3 appearance once.\n",
    "The final list should only include unique elements, and the elements should be ordered by when they first appeared in the original list.\n",
    "\n",
    "Examples\n",
    "multiplicity([1, 1, 1, 2, 2, 3]) ➞ [[1, 3], [2, 2], [3, 1]]\n",
    "\n",
    "multiplicity([1, 1, 1, 1, 1]) ➞ [[1, 5]]\n",
    "\n",
    "multiplicity([1, 5, 4, 3, 2]) ➞ [[1, 1], [5, 1], [4, 1], [3, 1], [2, 1]]"
   ]
  },
  {
   "cell_type": "code",
   "execution_count": 1,
   "metadata": {},
   "outputs": [
    {
     "name": "stdout",
     "output_type": "stream",
     "text": [
      "[[1, 1], [5, 1], [4, 1], [3, 1], [2, 1]]\n",
      "[[5, 4], [8, 1]]\n",
      "[[3, 3], [0, 1]]\n",
      "[[1, 2], [2, 2], [3, 2], [4, 2]]\n",
      "[[4, 2], [3, 2], [2, 2], [1, 2]]\n"
     ]
    }
   ],
   "source": [
    "def multiplicity(lst):\n",
    "    lst2 = []\n",
    "    lst3 = []\n",
    "    for i in lst:\n",
    "        if i in lst2:\n",
    "            continue\n",
    "        else:\n",
    "            lst3.append([i, lst.count(i)])\n",
    "            lst2.append(i)\n",
    "    return lst3\n",
    "\n",
    "print(multiplicity([1, 5, 4, 3, 2]))\n",
    "print(multiplicity([5, 5, 5, 5, 8]))\n",
    "print(multiplicity([3, 3, 3, 0]))\n",
    "print(multiplicity([1, 1, 2, 2, 3, 3, 4, 4]))\n",
    "print(multiplicity([4, 4, 3, 3, 2, 2, 1, 1]))"
   ]
  },
  {
   "cell_type": "code",
   "execution_count": 2,
   "metadata": {
    "scrolled": true
   },
   "outputs": [
    {
     "name": "stdout",
     "output_type": "stream",
     "text": [
      "[[1, 1], [5, 1], [4, 1], [3, 1], [2, 1]]\n",
      "[[5, 4], [8, 1]]\n",
      "[[3, 3], [0, 1]]\n",
      "[[1, 2], [2, 2], [3, 2], [4, 2]]\n",
      "[[4, 2], [3, 2], [2, 2], [1, 2]]\n"
     ]
    }
   ],
   "source": [
    "def multiplicity(lst):\n",
    "    r=[]\n",
    "    for c in lst:\n",
    "        if not [c,lst.count(c)] in r:\n",
    "            r.append([c,lst.count(c)])\n",
    "    return r\n",
    "\n",
    "print(multiplicity([1, 5, 4, 3, 2]))\n",
    "print(multiplicity([5, 5, 5, 5, 8]))\n",
    "print(multiplicity([3, 3, 3, 0]))\n",
    "print(multiplicity([1, 1, 2, 2, 3, 3, 4, 4]))\n",
    "print(multiplicity([4, 4, 3, 3, 2, 2, 1, 1]))"
   ]
  },
  {
   "cell_type": "code",
   "execution_count": 3,
   "metadata": {},
   "outputs": [
    {
     "name": "stdout",
     "output_type": "stream",
     "text": [
      "[[1, 1], [5, 1], [4, 1], [3, 1], [2, 1]]\n",
      "[[5, 4], [8, 1]]\n",
      "[[3, 3], [0, 1]]\n",
      "[[1, 2], [2, 2], [3, 2], [4, 2]]\n",
      "[[4, 2], [3, 2], [2, 2], [1, 2]]\n"
     ]
    }
   ],
   "source": [
    "def multiplicity(lst):\n",
    "    seen = set()\n",
    "    lst2 = [x for x in lst if not (x in seen or seen.add(x))]\n",
    "    return [[x,lst.count(x)] for x in lst2]\n",
    "\n",
    "# Understanding (x in seen or seen.add(x))\n",
    "# st = set()\n",
    "# print(st.add(9))  # None\n",
    "# print(st)  # {9}\n",
    "\n",
    "print(multiplicity([1, 5, 4, 3, 2]))\n",
    "print(multiplicity([5, 5, 5, 5, 8]))\n",
    "print(multiplicity([3, 3, 3, 0]))\n",
    "print(multiplicity([1, 1, 2, 2, 3, 3, 4, 4]))\n",
    "print(multiplicity([4, 4, 3, 3, 2, 2, 1, 1]))"
   ]
  },
  {
   "cell_type": "code",
   "execution_count": 4,
   "metadata": {},
   "outputs": [
    {
     "name": "stdout",
     "output_type": "stream",
     "text": [
      "[[1, 1], [5, 1], [4, 1], [3, 1], [2, 1]]\n",
      "[[5, 4], [8, 1]]\n",
      "[[3, 3], [0, 1]]\n",
      "[[1, 2], [2, 2], [3, 2], [4, 2]]\n",
      "[[4, 2], [3, 2], [2, 2], [1, 2]]\n"
     ]
    }
   ],
   "source": [
    "def multiplicity(lst):\n",
    "    return [[i, lst.count(i)] for i in sorted(set(lst), key=lst.index)]\n",
    "\n",
    "print(multiplicity([1, 5, 4, 3, 2]))\n",
    "print(multiplicity([5, 5, 5, 5, 8]))\n",
    "print(multiplicity([3, 3, 3, 0]))\n",
    "print(multiplicity([1, 1, 2, 2, 3, 3, 4, 4]))\n",
    "print(multiplicity([4, 4, 3, 3, 2, 2, 1, 1]))"
   ]
  },
  {
   "cell_type": "code",
   "execution_count": 5,
   "metadata": {},
   "outputs": [
    {
     "name": "stdout",
     "output_type": "stream",
     "text": [
      "[[1, 1], [5, 1], [4, 1], [3, 1], [2, 1]]\n",
      "[[5, 4], [8, 1]]\n",
      "[[3, 3], [0, 1]]\n",
      "[[1, 2], [2, 2], [3, 2], [4, 2]]\n",
      "[[4, 2], [3, 2], [2, 2], [1, 2]]\n"
     ]
    }
   ],
   "source": [
    "def multiplicity(lst):\n",
    "    a=[]\n",
    "    for item in sorted(set(lst),key=lst.index):\n",
    "        a.append([item,lst.count(item)])\n",
    "    return a\n",
    "\n",
    "print(multiplicity([1, 5, 4, 3, 2]))\n",
    "print(multiplicity([5, 5, 5, 5, 8]))\n",
    "print(multiplicity([3, 3, 3, 0]))\n",
    "print(multiplicity([1, 1, 2, 2, 3, 3, 4, 4]))\n",
    "print(multiplicity([4, 4, 3, 3, 2, 2, 1, 1]))"
   ]
  },
  {
   "cell_type": "code",
   "execution_count": 6,
   "metadata": {},
   "outputs": [
    {
     "name": "stdout",
     "output_type": "stream",
     "text": [
      "[[1, 1], [5, 1], [4, 1], [3, 1], [2, 1]]\n",
      "[[5, 4], [8, 1]]\n",
      "[[3, 3], [0, 1]]\n",
      "[[1, 2], [2, 2], [3, 2], [4, 2]]\n",
      "[[4, 2], [3, 2], [2, 2], [1, 2]]\n"
     ]
    }
   ],
   "source": [
    "def multiplicity(lst):\n",
    "    return [[i, lst.count(i)] for h,i in enumerate(lst) if lst.index(i) == h]\n",
    "\n",
    "print(multiplicity([1, 5, 4, 3, 2]))\n",
    "print(multiplicity([5, 5, 5, 5, 8]))\n",
    "print(multiplicity([3, 3, 3, 0]))\n",
    "print(multiplicity([1, 1, 2, 2, 3, 3, 4, 4]))\n",
    "print(multiplicity([4, 4, 3, 3, 2, 2, 1, 1]))"
   ]
  }
 ],
 "metadata": {
  "kernelspec": {
   "display_name": "Python 3",
   "language": "python",
   "name": "python3"
  },
  "language_info": {
   "codemirror_mode": {
    "name": "ipython",
    "version": 3
   },
   "file_extension": ".py",
   "mimetype": "text/x-python",
   "name": "python",
   "nbconvert_exporter": "python",
   "pygments_lexer": "ipython3",
   "version": "3.7.6"
  }
 },
 "nbformat": 4,
 "nbformat_minor": 4
}
